{
    "metadata": {
        "kernelspec": {
            "name": "python3",
            "display_name": "Python 3 (ipykernel)",
            "language": "python"
        },
        "language_info": {
            "name": "python",
            "version": "3.8.10",
            "mimetype": "text/x-python",
            "codemirror_mode": {
                "name": "ipython",
                "version": 3
            },
            "pygments_lexer": "ipython3",
            "nbconvert_exporter": "python",
            "file_extension": ".py"
        },
        "accelerator": "GPU",
        "colab": {
            "collapsed_sections": [],
            "name": "C1_W4_Lab_2_image_generator_with_validation.ipynb",
            "private_outputs": true,
            "provenance": [
                {
                    "file_id": "https://github.com/https-deeplearning-ai/tensorflow-1-public/blob/adding_C1/C1/W4/ungraded_labs/C1_W4_Lab_2_image_generator_with_validation.ipynb",
                    "timestamp": 1639109465068
                }
            ],
            "toc_visible": true
        }
    },
    "nbformat_minor": 2,
    "nbformat": 4,
    "cells": [
        {
            "cell_type": "markdown",
            "source": [
                "<a href=\"https://colab.research.google.com/github/https-deeplearning-ai/tensorflow-1-public/blob/master/C1/W4/ungraded_labs/C1_W4_Lab_2_image_generator_with_validation.ipynb\" target=\"_parent\"><img src=\"https://colab.research.google.com/assets/colab-badge.svg\" alt=\"Open In Colab\"/></a>"
            ],
            "metadata": {
                "azdata_cell_guid": "6153c26a-a7a3-46cf-bd1e-bd8494bceb2a"
            }
        },
        {
            "cell_type": "markdown",
            "source": [
                "# Ungraded Lab: ImageDataGenerator with a Validation Set\n",
                "\n",
                "In this lab, you will continue using the `ImageDataGenerator` class to prepare the `Horses or Humans` dataset. This time, you will add a validation set so you can also measure how well the model performs on data it hasn't seen."
            ],
            "metadata": {
                "id": "xB2cQUShkXNm",
                "azdata_cell_guid": "9123f2b9-d30f-4ca2-bd1b-2ff7d4056e62"
            }
        },
        {
            "cell_type": "markdown",
            "source": [
                "**IMPORTANT NOTE:** This notebook is designed to run as a Colab. Running it on your local machine might result in some of the code blocks throwing errors.\n",
                "\n",
                "**CHECK THE COMMENTS ON LAB 1 OR ON THE WEEK ASSIGNMENT**.\n",
                "\n",
                "\\- Since the code is exactly the same, the code in this notebook was not commented and explained."
            ],
            "metadata": {
                "id": "WsO-u_3fySMd",
                "azdata_cell_guid": "f0dcf832-5cfa-45ee-b5b4-41493db7270b"
            },
            "attachments": {}
        },
        {
            "cell_type": "markdown",
            "source": [
                "Run the code blocks below to download the datasets `horse-or-human.zip` and `validation-horse-or-human.zip` respectively."
            ],
            "metadata": {
                "id": "l5FfBGV5yUjb",
                "azdata_cell_guid": "333f972b-444d-445d-baef-cc2bb7618841"
            }
        },
        {
            "cell_type": "code",
            "source": [
                "# Download the training set\n",
                "!wget https://storage.googleapis.com/tensorflow-1-public/course2/week3/horse-or-human.zip"
            ],
            "metadata": {
                "id": "RXZT2UsyIVe_",
                "azdata_cell_guid": "cd2638d6-83b8-4545-a678-fad062c1ed1e"
            },
            "outputs": [],
            "execution_count": null
        },
        {
            "cell_type": "code",
            "source": [
                "# Download the validation set\n",
                "!wget https://storage.googleapis.com/tensorflow-1-public/course2/week3/validation-horse-or-human.zip"
            ],
            "metadata": {
                "id": "0mLij6qde6Ox",
                "azdata_cell_guid": "e23f563c-80a0-4b98-9a90-5d55785fb936"
            },
            "outputs": [],
            "execution_count": null
        },
        {
            "cell_type": "markdown",
            "source": [
                "Then unzip both archives."
            ],
            "metadata": {
                "id": "9brUxyTpYZHy",
                "azdata_cell_guid": "0dcbbfa2-5679-425c-84a7-8f5893169e24"
            }
        },
        {
            "cell_type": "code",
            "source": [
                "import zipfile\n",
                "\n",
                "# Unzip training set\n",
                "local_zip = './horse-or-human.zip'\n",
                "zip_ref = zipfile.ZipFile(local_zip, 'r')\n",
                "zip_ref.extractall('./horse-or-human')\n",
                "\n",
                "# Unzip validation set\n",
                "local_zip = './validation-horse-or-human.zip'\n",
                "zip_ref = zipfile.ZipFile(local_zip, 'r')\n",
                "zip_ref.extractall('./validation-horse-or-human')\n",
                "\n",
                "zip_ref.close()"
            ],
            "metadata": {
                "id": "PLy3pthUS0D2",
                "azdata_cell_guid": "3c837db0-62b3-4223-95b5-b92d471910fb"
            },
            "outputs": [],
            "execution_count": null
        },
        {
            "cell_type": "markdown",
            "source": [
                "Similar to the previous lab, you will define the directories containing your images. This time, you will include those with validation data."
            ],
            "metadata": {
                "id": "o-qUPyfO7Qr8",
                "azdata_cell_guid": "bc1ac307-d4db-4771-bcd6-61668f49978b"
            }
        },
        {
            "cell_type": "code",
            "source": [
                "import os\n",
                "\n",
                "# Directory with training horse pictures\n",
                "train_horse_dir = os.path.join('./horse-or-human/horses')\n",
                "\n",
                "# Directory with training human pictures\n",
                "train_human_dir = os.path.join('./horse-or-human/humans')\n",
                "\n",
                "# Directory with validation horse pictures\n",
                "validation_horse_dir = os.path.join('./validation-horse-or-human/horses')\n",
                "\n",
                "# Directory with validation human pictures\n",
                "validation_human_dir = os.path.join('./validation-horse-or-human/humans')"
            ],
            "metadata": {
                "id": "NR_M9nWN-K8B",
                "azdata_cell_guid": "1e7e5821-e5c9-4c2a-a4f3-640fe40bee5b"
            },
            "outputs": [],
            "execution_count": null
        },
        {
            "cell_type": "markdown",
            "source": [
                "Now see what the filenames look like in these directories:"
            ],
            "metadata": {
                "id": "LuBYtA_Zd8_T",
                "azdata_cell_guid": "5ce37f2d-bac8-4eae-835b-5e899d760f68"
            }
        },
        {
            "cell_type": "code",
            "source": [
                "train_horse_names = os.listdir(train_horse_dir)\n",
                "print(f'TRAIN SET HORSES: {train_horse_names[:10]}')\n",
                "\n",
                "train_human_names = os.listdir(train_human_dir)\n",
                "print(f'TRAIN SET HUMANS: {train_human_names[:10]}')\n",
                "\n",
                "validation_horse_names = os.listdir(validation_horse_dir)\n",
                "print(f'VAL SET HORSES: {validation_horse_names[:10]}')\n",
                "\n",
                "validation_human_names = os.listdir(validation_human_dir)\n",
                "print(f'VAL SET HUMANS: {validation_human_names[:10]}')"
            ],
            "metadata": {
                "id": "4PIP1rkmeAYS",
                "azdata_cell_guid": "93701150-5c34-4858-aca1-5c21ac7ea555"
            },
            "outputs": [],
            "execution_count": null
        },
        {
            "cell_type": "markdown",
            "source": [
                "You can find out the total number of horse and human images in the directories:"
            ],
            "metadata": {
                "id": "HlqN5KbafhLI",
                "azdata_cell_guid": "c9864805-3044-405b-9834-49641693c9ac"
            }
        },
        {
            "cell_type": "code",
            "source": [
                "print(f'total training horse images: {len(os.listdir(train_horse_dir))}')\n",
                "print(f'total training human images: {len(os.listdir(train_human_dir))}')\n",
                "print(f'total validation horse images: {len(os.listdir(validation_horse_dir))}')\n",
                "print(f'total validation human images: {len(os.listdir(validation_human_dir))}')"
            ],
            "metadata": {
                "id": "H4XHh2xSfgie",
                "azdata_cell_guid": "dbca927d-c02e-4a77-9009-0f8d06267b89"
            },
            "outputs": [],
            "execution_count": null
        },
        {
            "cell_type": "markdown",
            "source": [
                "Now take a look at a few pictures to get a better sense of what they look like. First, configure the `matplotlib` parameters:"
            ],
            "metadata": {
                "id": "C3WZABE9eX-8",
                "azdata_cell_guid": "23b237bc-25fb-470f-9aae-10c532484619"
            }
        },
        {
            "cell_type": "code",
            "source": [
                "%matplotlib inline\n",
                "\n",
                "import matplotlib.pyplot as plt\n",
                "import matplotlib.image as mpimg\n",
                "\n",
                "# Parameters for our graph; we'll output images in a 4x4 configuration\n",
                "nrows = 4\n",
                "ncols = 4\n",
                "\n",
                "# Index for iterating over images\n",
                "pic_index = 0"
            ],
            "metadata": {
                "id": "b2_Q0-_5UAv-",
                "azdata_cell_guid": "8ef943e4-055d-49e9-bf3d-e6223cadb7b2"
            },
            "outputs": [],
            "execution_count": null
        },
        {
            "cell_type": "markdown",
            "source": [
                "Now, display a batch of 8 horse and 8 human pictures. You can rerun the cell to see a fresh batch each time:"
            ],
            "metadata": {
                "id": "xTvHzGCxXkqp",
                "azdata_cell_guid": "cf8b957d-3590-41e8-ac0d-c0562a93e49d"
            }
        },
        {
            "cell_type": "code",
            "source": [
                "# Set up matplotlib fig, and size it to fit 4x4 pics\n",
                "fig = plt.gcf()\n",
                "fig.set_size_inches(ncols * 4, nrows * 4)\n",
                "\n",
                "pic_index += 8\n",
                "next_horse_pix = [os.path.join(train_horse_dir, fname) \n",
                "                for fname in train_horse_names[pic_index-8:pic_index]]\n",
                "next_human_pix = [os.path.join(train_human_dir, fname) \n",
                "                for fname in train_human_names[pic_index-8:pic_index]]\n",
                "\n",
                "for i, img_path in enumerate(next_horse_pix+next_human_pix):\n",
                "  # Set up subplot; subplot indices start at 1\n",
                "  sp = plt.subplot(nrows, ncols, i + 1)\n",
                "  sp.axis('Off') # Don't show axes (or gridlines)\n",
                "\n",
                "  img = mpimg.imread(img_path)\n",
                "  plt.imshow(img)\n",
                "\n",
                "plt.show()\n"
            ],
            "metadata": {
                "id": "Wpr8GxjOU8in",
                "azdata_cell_guid": "b2b9946f-d581-419c-8021-bf86180941fe"
            },
            "outputs": [],
            "execution_count": null
        },
        {
            "cell_type": "markdown",
            "source": [
                "## Building a Small Model from Scratch\n",
                "\n",
                "You will define the same model architecture as before:"
            ],
            "metadata": {
                "id": "5oqBkNBJmtUv",
                "azdata_cell_guid": "a830d62b-936c-4400-a4a8-4d421cc4973b"
            }
        },
        {
            "cell_type": "code",
            "source": [
                "import tensorflow as tf\n",
                "\n",
                "model = tf.keras.models.Sequential([\n",
                "    # Note the input shape is the desired size of the image 300x300 with 3 bytes color\n",
                "    # This is the first convolution\n",
                "    tf.keras.layers.Conv2D(16, (3,3), activation='relu', input_shape=(300, 300, 3)),\n",
                "    tf.keras.layers.MaxPooling2D(2, 2),\n",
                "    # The second convolution\n",
                "    tf.keras.layers.Conv2D(32, (3,3), activation='relu'),\n",
                "    tf.keras.layers.MaxPooling2D(2,2),\n",
                "    # The third convolution\n",
                "    tf.keras.layers.Conv2D(64, (3,3), activation='relu'),\n",
                "    tf.keras.layers.MaxPooling2D(2,2),\n",
                "    # The fourth convolution\n",
                "    tf.keras.layers.Conv2D(64, (3,3), activation='relu'),\n",
                "    tf.keras.layers.MaxPooling2D(2,2),\n",
                "    # The fifth convolution\n",
                "    tf.keras.layers.Conv2D(64, (3,3), activation='relu'),\n",
                "    tf.keras.layers.MaxPooling2D(2,2),\n",
                "    # Flatten the results to feed into a DNN\n",
                "    tf.keras.layers.Flatten(),\n",
                "    # 512 neuron hidden layer\n",
                "    tf.keras.layers.Dense(512, activation='relu'),\n",
                "    # Only 1 output neuron. It will contain a value from 0-1 where 0 for 1 class ('horses') and 1 for the other ('humans')\n",
                "    tf.keras.layers.Dense(1, activation='sigmoid')\n",
                "])"
            ],
            "metadata": {
                "id": "qvfZg3LQbD-5",
                "azdata_cell_guid": "7ac51397-168d-4bea-a46b-c183a845a7aa"
            },
            "outputs": [],
            "execution_count": null
        },
        {
            "cell_type": "markdown",
            "source": [
                "You can review the network architecture and the output shapes with `model.summary()`."
            ],
            "metadata": {
                "id": "s9EaFDP5srBa",
                "azdata_cell_guid": "aff89180-7f91-4915-9c54-aa4fc2d69068"
            }
        },
        {
            "cell_type": "code",
            "source": [
                "model.summary()"
            ],
            "metadata": {
                "id": "7ZKj8392nbgP",
                "azdata_cell_guid": "00354f18-2aaa-429d-9f17-d1b14fe03ec0"
            },
            "outputs": [],
            "execution_count": null
        },
        {
            "cell_type": "markdown",
            "source": [
                "You will also use the same compile settings as before:"
            ],
            "metadata": {
                "id": "PEkKSpZlvJXA",
                "azdata_cell_guid": "743f6c12-b2d9-449a-bda8-1550b2fa0cca"
            }
        },
        {
            "cell_type": "code",
            "source": [
                "from tensorflow.keras.optimizers import RMSprop\n",
                "\n",
                "model.compile(loss='binary_crossentropy',\n",
                "              optimizer=RMSprop(learning_rate=0.001),\n",
                "              metrics=['accuracy'])"
            ],
            "metadata": {
                "id": "8DHWhFP_uhq3",
                "azdata_cell_guid": "0fd45e2f-a7ea-4709-a60b-a3f2e2eff204"
            },
            "outputs": [],
            "execution_count": null
        },
        {
            "cell_type": "markdown",
            "source": [
                "### Data Preprocessing\n",
                "\n",
                "Now you will setup the data generators. It will mostly be the same as last time but notice the additional code to also prepare the validation data. It will need to be instantiated separately and also scaled to have `[0,1]` range of pixel values."
            ],
            "metadata": {
                "id": "Sn9m9D3UimHM",
                "azdata_cell_guid": "e511a42e-f3bf-4d5a-9647-ddbdb630ee48"
            }
        },
        {
            "cell_type": "code",
            "source": [
                "from tensorflow.keras.preprocessing.image import ImageDataGenerator\n",
                "\n",
                "# All images will be rescaled by 1./255\n",
                "train_datagen = ImageDataGenerator(rescale=1/255)\n",
                "validation_datagen = ImageDataGenerator(rescale=1/255)\n",
                "\n",
                "# Flow training images in batches of 128 using train_datagen generator\n",
                "train_generator = train_datagen.flow_from_directory(\n",
                "        './horse-or-human/',  # This is the source directory for training images\n",
                "        target_size=(300, 300),  # All images will be resized to 300x300\n",
                "        batch_size=128,\n",
                "        # Since you use binary_crossentropy loss, you need binary labels\n",
                "        class_mode='binary')\n",
                "\n",
                "# Flow validation images in batches of 128 using validation_datagen generator\n",
                "validation_generator = validation_datagen.flow_from_directory(\n",
                "        './validation-horse-or-human/',  # This is the source directory for validation images\n",
                "        target_size=(300, 300),  # All images will be resized to 300x300\n",
                "        batch_size=32,\n",
                "        # Since you use binary_crossentropy loss, you need binary labels\n",
                "        class_mode='binary')"
            ],
            "metadata": {
                "id": "ClebU9NJg99G",
                "azdata_cell_guid": "ea76c8ee-44ba-4e7e-ad82-47b2ecf3d416"
            },
            "outputs": [],
            "execution_count": null
        },
        {
            "cell_type": "markdown",
            "source": [
                "### Training\n",
                "Now train the model for 15 epochs. Here, you will pass parameters for `validation_data` and `validation_steps`. With these, you will notice additional outputs in the print statements: `val_loss` and `val_accuracy`. Notice that as you train with more epochs, your training accuracy might go up but your validation accuracy goes down. This can be a sign of overfitting and you need to prevent your model from reaching this point."
            ],
            "metadata": {
                "id": "mu3Jdwkjwax4",
                "azdata_cell_guid": "31359b5c-9537-4dd7-9c4a-7b6dd9deac3a"
            }
        },
        {
            "cell_type": "code",
            "source": [
                "history = model.fit(\n",
                "      train_generator,\n",
                "      steps_per_epoch=8,  \n",
                "      epochs=15,\n",
                "      verbose=1,\n",
                "      validation_data = validation_generator,\n",
                "      validation_steps=8)"
            ],
            "metadata": {
                "id": "Fb1_lgobv81m",
                "azdata_cell_guid": "9201c521-505e-4bb4-8a54-0c1c7366bef7"
            },
            "outputs": [],
            "execution_count": null
        },
        {
            "cell_type": "markdown",
            "source": [
                "### Model Prediction\n",
                "\n",
                "Now take a look at actually running a prediction using the model. This code will allow you to choose 1 or more files from your file system, upload them, and run them through the model, giving an indication of whether the object is a horse or a human.\n",
                "\n",
                "**Important Note:** Due to some compatibility issues, the following code block will result in an error after you select the images(s) to upload if you are running this notebook as a `Colab` on the `Safari` browser. For all other browsers, continue with the next code block and ignore the next one after it.\n",
                "\n",
                "_For Safari users: please comment out or skip the code block below, uncomment the next code block and run it._"
            ],
            "metadata": {
                "id": "o6vSHzPR2ghH",
                "azdata_cell_guid": "6ea7bd66-e944-4ed7-bd9d-53bd843ed206"
            }
        },
        {
            "cell_type": "code",
            "source": [
                "## CODE BLOCK FOR NON-SAFARI BROWSERS\n",
                "## SAFARI USERS: PLEASE SKIP THIS BLOCK AND RUN THE NEXT ONE INSTEAD\n",
                "\n",
                "import numpy as np\n",
                "from google.colab import files\n",
                "from keras.preprocessing import image\n",
                "\n",
                "uploaded = files.upload()\n",
                "\n",
                "for fn in uploaded.keys():\n",
                " \n",
                "  # predicting images\n",
                "  path = '/content/' + fn\n",
                "  img = image.load_img(path, target_size=(300, 300))\n",
                "  x = image.img_to_array(img)\n",
                "  x /= 255\n",
                "  x = np.expand_dims(x, axis=0)\n",
                "\n",
                "  images = np.vstack([x])\n",
                "  classes = model.predict(images, batch_size=10)\n",
                "  print(classes[0])\n",
                "  if classes[0]>0.5:\n",
                "    print(fn + \" is a human\")\n",
                "  else:\n",
                "    print(fn + \" is a horse\")\n",
                " "
            ],
            "metadata": {
                "id": "DoWp43WxJDNT",
                "azdata_cell_guid": "5e933a36-bdd8-4501-8a45-4e29bde6e5a1"
            },
            "outputs": [],
            "execution_count": null
        },
        {
            "cell_type": "markdown",
            "source": [
                "`Safari` users will need to upload the images(s) manually in their workspace. Please follow the instructions, uncomment the code block below and run it.\n",
                "\n",
                "Instructions on how to upload image(s) manually in a Colab:\n",
                "\n",
                "1. Select the `folder` icon on the left `menu bar`.\n",
                "2. Click on the `folder with an arrow pointing upwards` named `..`\n",
                "3. Click on the `folder` named `tmp`.\n",
                "4. Inside of the `tmp` folder, `create a new folder` called `images`. You'll see the `New folder` option by clicking the `3 vertical dots` menu button next to the `tmp` folder.\n",
                "5. Inside of the new `images` folder, upload an image(s) of your choice, preferably of either a horse or a human. Drag and drop the images(s) on top of the `images` folder.\n",
                "6. Uncomment and run the code block below. "
            ],
            "metadata": {
                "id": "UJV8rdWU0NlM",
                "azdata_cell_guid": "476b8d0b-7a88-4476-b521-e61f10c49462"
            }
        },
        {
            "cell_type": "code",
            "source": [
                "# # CODE BLOCK FOR SAFARI USERS\n",
                "\n",
                "# import numpy as np\n",
                "# from keras.preprocessing import image\n",
                "# import os\n",
                "\n",
                "# images = os.listdir(\"/tmp/images\")\n",
                "\n",
                "# print(images)\n",
                "\n",
                "# for i in images:\n",
                "#  print()\n",
                "#  # predicting images\n",
                "#  path = '/tmp/images/' + i\n",
                "#  img = image.load_img(path, target_size=(300, 300))\n",
                "#  x = image.img_to_array(img)\n",
                "#  x /= 255\n",
                "#  x = np.expand_dims(x, axis=0)\n",
                "\n",
                "#  images = np.vstack([x])\n",
                "#  classes = model.predict(images, batch_size=10)\n",
                "#  print(classes[0])\n",
                "#  if classes[0]>0.5:\n",
                "#    print(i + \" is a human\")\n",
                "#  else:\n",
                "#    print(i + \" is a horse\")"
            ],
            "metadata": {
                "id": "eyIcglKE0MpY",
                "azdata_cell_guid": "d7538883-8c56-4ded-a02d-f4559279cc1e"
            },
            "outputs": [],
            "execution_count": null
        },
        {
            "cell_type": "markdown",
            "source": [
                "### Visualizing Intermediate Representations\n",
                "\n",
                "As before, you can plot how the features are transformed as it goes through each layer."
            ],
            "metadata": {
                "id": "-8EHQyWGDvWz",
                "azdata_cell_guid": "62c0575b-07f8-4c03-90f5-532897790cdd"
            }
        },
        {
            "cell_type": "code",
            "source": [
                "import numpy as np\n",
                "import random\n",
                "from tensorflow.keras.preprocessing.image import img_to_array, load_img\n",
                "\n",
                "# Define a new Model that will take an image as input, and will output\n",
                "# intermediate representations for all layers in the previous model after\n",
                "# the first.\n",
                "successive_outputs = [layer.output for layer in model.layers[1:]]\n",
                "visualization_model = tf.keras.models.Model(inputs = model.input, outputs = successive_outputs)\n",
                "\n",
                "# Prepare a random input image from the training set.\n",
                "horse_img_files = [os.path.join(train_horse_dir, f) for f in train_horse_names]\n",
                "human_img_files = [os.path.join(train_human_dir, f) for f in train_human_names]\n",
                "img_path = random.choice(horse_img_files + human_img_files)\n",
                "\n",
                "img = load_img(img_path, target_size=(300, 300))  # this is a PIL image\n",
                "x = img_to_array(img)  # Numpy array with shape (300, 300, 3)\n",
                "x = x.reshape((1,) + x.shape)  # Numpy array with shape (1, 300, 300, 3)\n",
                "\n",
                "# Scale by 1/255\n",
                "x /= 255\n",
                "\n",
                "# Run the image through the network, thus obtaining all\n",
                "# intermediate representations for this image.\n",
                "successive_feature_maps = visualization_model.predict(x)\n",
                "\n",
                "# These are the names of the layers, so you can have them as part of the plot\n",
                "layer_names = [layer.name for layer in model.layers[1:]]\n",
                "\n",
                "# Display the representations\n",
                "for layer_name, feature_map in zip(layer_names, successive_feature_maps):\n",
                "  if len(feature_map.shape) == 4:\n",
                "\n",
                "    # Just do this for the conv / maxpool layers, not the fully-connected layers\n",
                "    n_features = feature_map.shape[-1]  # number of features in feature map\n",
                "\n",
                "    # The feature map has shape (1, size, size, n_features)\n",
                "    size = feature_map.shape[1]\n",
                "    \n",
                "    # Tile the images in this matrix\n",
                "    display_grid = np.zeros((size, size * n_features))\n",
                "    for i in range(n_features):\n",
                "      x = feature_map[0, :, :, i]\n",
                "      x -= x.mean()\n",
                "      x /= x.std()\n",
                "      x *= 64\n",
                "      x += 128\n",
                "      x = np.clip(x, 0, 255).astype('uint8')\n",
                "    \n",
                "      # Tile each filter into this big horizontal grid\n",
                "      display_grid[:, i * size : (i + 1) * size] = x\n",
                "    \n",
                "    # Display the grid\n",
                "    scale = 20. / n_features\n",
                "    plt.figure(figsize=(scale * n_features, scale))\n",
                "    plt.title(layer_name)\n",
                "    plt.grid(False)\n",
                "    plt.imshow(display_grid, aspect='auto', cmap='viridis')"
            ],
            "metadata": {
                "id": "-5tES8rXFjux",
                "azdata_cell_guid": "9df99958-78a4-45fb-973f-e7d2bce5fe75"
            },
            "outputs": [],
            "execution_count": null
        },
        {
            "cell_type": "markdown",
            "source": [
                "## Clean Up\n",
                "\n",
                "Before running the next exercise, run the following cell to terminate the kernel and free memory resources:"
            ],
            "metadata": {
                "id": "j4IBgYCYooGD",
                "azdata_cell_guid": "be87e3ba-6026-44dd-b023-65c676be6b08"
            }
        },
        {
            "cell_type": "code",
            "source": [
                "# import os, signal\n",
                "# os.kill(os.getpid(), signal.SIGKILL)"
            ],
            "metadata": {
                "id": "651IgjLyo-Jx",
                "azdata_cell_guid": "c9d97d0e-95d2-4377-8ec3-2130f4183f34"
            },
            "outputs": [],
            "execution_count": null
        }
    ]
}